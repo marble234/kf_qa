{
 "cells": [
  {
   "cell_type": "markdown",
   "metadata": {},
   "source": [
    "### 客服质检项目\n",
    "\n",
    "质检点：\n",
    "1. 开头语是否正确使用\n",
    "2. 会话最后一条是否客服人员回复\n",
    "3. 结束语是否正确使用\n",
    "4. 服务敬语使用次数\n",
    "5. 禁忌词汇使用次数\n",
    "6. 初次有效响应时长\n",
    "7. 初次响应时长？\n",
    "8. 交互处理时长\n",
    "9. 会话时长\n",
    "10. 连续短会话数\n",
    "11. 短消息总次数\n",
    "12. 回复消息条数\n"
   ]
  },
  {
   "cell_type": "code",
   "execution_count": 4,
   "metadata": {
    "collapsed": true
   },
   "outputs": [],
   "source": [
    "import pandas as pd\n",
    "import doctest"
   ]
  },
  {
   "cell_type": "code",
   "execution_count": 14,
   "metadata": {
    "collapsed": false
   },
   "outputs": [],
   "source": [
    "# Rule1：开头语是否正确使用\n",
    "def session_start_msg(msg):\n",
    "    \"\"\"\n",
    "    >>> print session_start_msg('您好，请问有什么可以帮您？')\n",
    "    1\n",
    "    >>> print session_start_msg('您好，请问有什么可以帮您')\n",
    "    0\n",
    "    \"\"\"\n",
    "    \n",
    "    correctMsg = ['您好，请问有什么可以帮您？', \\\n",
    "                  '您好，这里是360借条，很高兴为您服务！',\\\n",
    "                  '您好，您已进入人工，请问有什么可以帮您？',\\\n",
    "                  '您好，您已接入人工客服，请问有什么问题可以帮您？',\\\n",
    "                  '抱歉让您久等了，请问有什么可以帮您？',\\\n",
    "                  '您好，很抱歉让您久等了，您已接入人工客服，请问有什么可以帮您？',\\\n",
    "                  '抱歉让您久等了。',\\\n",
    "                  '您好，很抱歉让您久等了',\\\n",
    "                  '感谢您的耐心等待。']\n",
    "    return int(msg in correctMsg)\n"
   ]
  },
  {
   "cell_type": "code",
   "execution_count": 16,
   "metadata": {
    "collapsed": true
   },
   "outputs": [],
   "source": [
    "# Rule3：结束语是否正确使用\n",
    "def session_end_msg(msg):\n",
    "    \"\"\"\n",
    "    >>> print session_end_msg('若您仍有疑问，欢迎随时使用在线客服，我们将竭诚为您服务。祝您天天开心！')\n",
    "    1\n",
    "    >>> print session_end_msg('您好，请问有什么可以帮您')\n",
    "    1\n",
    "    \"\"\"\n",
    "    \n",
    "    correctMsg = ['若您仍有疑问，欢迎随时使用在线客服，我们将竭诚为您服务。祝您天天开心！', \\\n",
    "                  '感谢您的咨询，若有任何问题欢迎您再次访问在线客服。',\\\n",
    "                  '感谢您对360借条的支持和信任，祝您一切顺利，再见！',\\\n",
    "                  '由于您长时间没有回应，人工会话已关闭，感谢您对360借条的支持，若有其它问题，随时欢迎您再次咨询，再见！']\n",
    "    return int(msg in correctMsg)\n"
   ]
  },
  {
   "cell_type": "code",
   "execution_count": 17,
   "metadata": {
    "collapsed": false
   },
   "outputs": [
    {
     "name": "stdout",
     "output_type": "stream",
     "text": [
      "**********************************************************************\n",
      "File \"__main__\", line 6, in __main__.session_end_msg\n",
      "Failed example:\n",
      "    print session_end_msg('您好，请问有什么可以帮您')\n",
      "Expected:\n",
      "    1\n",
      "Got:\n",
      "    0\n",
      "**********************************************************************\n",
      "1 items had failures:\n",
      "   1 of   2 in __main__.session_end_msg\n",
      "***Test Failed*** 1 failures.\n"
     ]
    }
   ],
   "source": [
    "if __name__ == '__main__':\n",
    "    doctest.testmod()"
   ]
  },
  {
   "cell_type": "code",
   "execution_count": null,
   "metadata": {
    "collapsed": true
   },
   "outputs": [],
   "source": []
  }
 ],
 "metadata": {
  "kernelspec": {
   "display_name": "Python 2",
   "language": "python",
   "name": "python2"
  },
  "language_info": {
   "codemirror_mode": {
    "name": "ipython",
    "version": 2
   },
   "file_extension": ".py",
   "mimetype": "text/x-python",
   "name": "python",
   "nbconvert_exporter": "python",
   "pygments_lexer": "ipython2",
   "version": "2.7.11"
  }
 },
 "nbformat": 4,
 "nbformat_minor": 0
}
